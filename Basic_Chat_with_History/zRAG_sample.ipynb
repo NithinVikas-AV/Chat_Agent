{
 "cells": [
  {
   "cell_type": "markdown",
   "id": "7b81f99a",
   "metadata": {},
   "source": [
    "# **TEXT FILE**"
   ]
  },
  {
   "cell_type": "markdown",
   "id": "26a5e055",
   "metadata": {},
   "source": [
    "#### Libararies"
   ]
  },
  {
   "cell_type": "code",
   "execution_count": 1,
   "id": "740f307a",
   "metadata": {},
   "outputs": [],
   "source": [
    "import os\n",
    "from langchain_huggingface.embeddings import HuggingFaceEmbeddings\n",
    "from langchain_community.document_loaders import TextLoader\n",
    "from langchain_community.vectorstores import FAISS\n",
    "from langchain.text_splitter import RecursiveCharacterTextSplitter"
   ]
  },
  {
   "cell_type": "markdown",
   "id": "9f020e11",
   "metadata": {},
   "source": [
    "#### Paths"
   ]
  },
  {
   "cell_type": "code",
   "execution_count": 78,
   "id": "8b1db95f",
   "metadata": {},
   "outputs": [],
   "source": [
    "file_name = \"romeo_and_juliet.txt\"\n",
    "\n",
    "current_dir = os.getcwd() # os.path.dirname(os.path.abspath(__file__))\n",
    "file_path = os.path.join(current_dir, \"uploads\", file_name)\n",
    "db_dir = os.path.join(current_dir, \"db\")\n",
    "idx_name = \"FAISS_metadata\""
   ]
  },
  {
   "cell_type": "markdown",
   "id": "0c7c12a4",
   "metadata": {},
   "source": [
    "#### Text File Loader"
   ]
  },
  {
   "cell_type": "code",
   "execution_count": 79,
   "id": "2272f0d1",
   "metadata": {},
   "outputs": [],
   "source": [
    "loader = TextLoader(file_path, encoding=\"utf-8\")\n",
    "data = loader.load()\n",
    "\n",
    "if not os.path.exists(file_path):\n",
    "    raise FileNotFoundError(f\"The file {file_path} does not exist. Please check the path.\")"
   ]
  },
  {
   "cell_type": "markdown",
   "id": "d7e7438e",
   "metadata": {},
   "source": [
    "#### Text Splitter and Chunks"
   ]
  },
  {
   "cell_type": "code",
   "execution_count": null,
   "id": "12ab5bae",
   "metadata": {},
   "outputs": [],
   "source": [
    "text_splitter = RecursiveCharacterTextSplitter(\n",
    "    chunk_size=1000,\n",
    "    chunk_overlap=100,\n",
    "    length_function=len,\n",
    ")\n",
    "\n",
    "chunks = text_splitter.split_documents(data)\n",
    "\n",
    "for chunk in chunks:\n",
    "    chunk.metadata = {'source': file_name}"
   ]
  },
  {
   "cell_type": "markdown",
   "id": "d9ac7b40",
   "metadata": {},
   "source": [
    "#### Embedding Model"
   ]
  },
  {
   "cell_type": "code",
   "execution_count": 81,
   "id": "3fccdb95",
   "metadata": {},
   "outputs": [],
   "source": [
    "modelPath = \"sentence-transformers/all-MiniLM-l6-v2\"\n",
    "model_kwargs = {'device':'cpu'}\n",
    "encode_kwargs = {'normalize_embeddings': False}\n",
    "\n",
    "embeddings = HuggingFaceEmbeddings(\n",
    "    model_name=modelPath,\n",
    "    model_kwargs=model_kwargs, \n",
    "    encode_kwargs=encode_kwargs \n",
    ")"
   ]
  },
  {
   "cell_type": "markdown",
   "id": "33256625",
   "metadata": {},
   "source": [
    "#### FAISS DB, Save in Local and Load from local"
   ]
  },
  {
   "cell_type": "code",
   "execution_count": 82,
   "id": "21f808d1",
   "metadata": {},
   "outputs": [],
   "source": [
    "faissdb = FAISS.from_documents(chunks, embeddings)\n",
    "\n",
    "faissdb.save_local(folder_path=db_dir, index_name=idx_name)\n",
    "\n",
    "faissdb = FAISS.load_local(folder_path=db_dir, embeddings=embeddings, index_name=idx_name, allow_dangerous_deserialization=True)"
   ]
  },
  {
   "cell_type": "markdown",
   "id": "1c19e3e5",
   "metadata": {},
   "source": [
    "#### Retriever (Similarity seach, mmr, Similarity_score_thershold)"
   ]
  },
  {
   "cell_type": "code",
   "execution_count": 86,
   "id": "a6ae4d59",
   "metadata": {},
   "outputs": [],
   "source": [
    "sim_retriever = faissdb.as_retriever(\n",
    "            search_type='similarity',\n",
    "            search_kwargs={'k':1},\n",
    "        )\n",
    "\n",
    "# mmr_retriever = faissdb.as_retriever(\n",
    "#             search_type='mmr', \n",
    "#             search_kwargs={'k':2, 'fetch_k':20, \"lambda_mult\": 0.5},\n",
    "#         )\n",
    "\n",
    "# sst_retriever = faissdb.as_retriever(\n",
    "#             search_type='similarity_score_threshold',\n",
    "#             search_kwargs={'k':2, 'score_threshold': 0.1},\n",
    "#         )"
   ]
  },
  {
   "cell_type": "code",
   "execution_count": 87,
   "id": "598ded43",
   "metadata": {},
   "outputs": [
    {
     "name": "stdout",
     "output_type": "stream",
     "text": [
      "\n",
      "Relevant Doc: \n",
      " FRIAR LAWRENCE.\n",
      "I will be brief, for my short date of breath\n",
      "Is not so long as is a tedious tale.\n",
      "Romeo, there dead, was husband to that Juliet,\n",
      "And she, there dead, that Romeo’s faithful wife.\n",
      "I married them; and their stol’n marriage day\n",
      "Was Tybalt’s doomsday, whose untimely death\n",
      "Banish’d the new-made bridegroom from this city;\n",
      "For whom, and not for Tybalt, Juliet pin’d.\n",
      "You, to remove that siege of grief from her,\n",
      "Betroth’d, and would have married her perforce\n",
      "To County Paris. Then comes she to me,\n",
      "And with wild looks, bid me devise some means\n",
      "To rid her from this second marriage,\n",
      "Or in my cell there would she kill herself.\n",
      "Then gave I her, so tutored by my art,\n",
      "A sleeping potion, which so took effect\n",
      "As I intended, for it wrought on her\n",
      "The form of death. Meantime I writ to Romeo\n",
      "That he should hither come as this dire night\n",
      "To help to take her from her borrow’d grave,\n",
      "Being the time the potion’s force should cease.\n",
      "But he which bore my letter, Friar John,\n",
      "\n",
      "Source:  {'source': 'romeo_and_juliet.txt'}\n"
     ]
    }
   ],
   "source": [
    "query = \"How did Juliet Die?\"\n",
    "\n",
    "relevant_doc1 = sim_retriever.invoke(query)\n",
    "\n",
    "for doc in relevant_doc1:\n",
    "    print(\"\\nRelevant Doc: \\n\", doc.page_content)\n",
    "    print('\\nSource: ', doc.metadata)\n",
    "\n",
    "# relevant_doc2 = mmr_retriever.invoke(query)\n",
    "# print(relevant_doc2)\n",
    "\n",
    "# relevant_doc3 = sst_retriever.invoke(query)\n",
    "# print(relevant_doc3)"
   ]
  },
  {
   "cell_type": "code",
   "execution_count": null,
   "id": "5c9180e0",
   "metadata": {},
   "outputs": [],
   "source": []
  },
  {
   "cell_type": "markdown",
   "id": "0113d85f",
   "metadata": {},
   "source": [
    "# **PDF**"
   ]
  },
  {
   "cell_type": "code",
   "execution_count": 89,
   "id": "36bfabcf",
   "metadata": {},
   "outputs": [],
   "source": [
    "from langchain_community.document_loaders import PyMuPDFLoader"
   ]
  },
  {
   "cell_type": "markdown",
   "id": "8ce0c098",
   "metadata": {},
   "source": [
    "#### Paths"
   ]
  },
  {
   "cell_type": "code",
   "execution_count": 90,
   "id": "b7c7fc2c",
   "metadata": {},
   "outputs": [],
   "source": [
    "file_name = \"NVResume.pdf\"\n",
    "\n",
    "current_dir = os.getcwd() # os.path.dirname(os.path.abspath(__file__))\n",
    "file_path = os.path.join(current_dir, \"uploads\", file_name)\n",
    "db_dir = os.path.join(current_dir, \"db\")\n",
    "idx_name = \"FAISS_metadata\""
   ]
  },
  {
   "cell_type": "code",
   "execution_count": 93,
   "id": "64ca1f00",
   "metadata": {},
   "outputs": [],
   "source": [
    "loader = PyMuPDFLoader(file_path)\n",
    "data = loader.load()"
   ]
  },
  {
   "cell_type": "code",
   "execution_count": null,
   "id": "23e7b79a",
   "metadata": {},
   "outputs": [],
   "source": [
    "text_splitter = RecursiveCharacterTextSplitter(\n",
    "    chunk_size=100,\n",
    "    chunk_overlap=10,\n",
    "    length_function=len,\n",
    ")\n",
    "\n",
    "chunks = text_splitter.split_documents(data)\n",
    "\n",
    "for chunk in chunks:\n",
    "    chunk.metadata = {'source': file_name}"
   ]
  },
  {
   "cell_type": "code",
   "execution_count": 110,
   "id": "6d27003a",
   "metadata": {},
   "outputs": [],
   "source": [
    "modelPath = \"sentence-transformers/all-MiniLM-l6-v2\"\n",
    "model_kwargs = {'device':'cpu'}\n",
    "encode_kwargs = {'normalize_embeddings': False}\n",
    "\n",
    "embeddings = HuggingFaceEmbeddings(\n",
    "    model_name=modelPath,\n",
    "    model_kwargs=model_kwargs, \n",
    "    encode_kwargs=encode_kwargs \n",
    ")"
   ]
  },
  {
   "cell_type": "code",
   "execution_count": null,
   "id": "76c22e9f",
   "metadata": {},
   "outputs": [],
   "source": [
    "faissdb = FAISS.from_documents(chunks, embeddings)\n",
    "\n",
    "faissdb.save_local(folder_path=db_dir, index_name=idx_name)\n",
    "\n",
    "faissdb = FAISS.load_local(folder_path=db_dir, embeddings=embeddings, index_name=idx_name, allow_dangerous_deserialization=True)"
   ]
  },
  {
   "cell_type": "code",
   "execution_count": 112,
   "id": "b5a36e7a",
   "metadata": {},
   "outputs": [],
   "source": [
    "sim_retriever = faissdb.as_retriever(\n",
    "            search_type='similarity',\n",
    "            search_kwargs={'k':1},\n",
    "        )\n",
    "\n",
    "# mmr_retriever = faissdb.as_retriever(\n",
    "#             search_type='mmr', \n",
    "#             search_kwargs={'k':2, 'fetch_k':20, \"lambda_mult\": 0.5},\n",
    "#         )\n",
    "\n",
    "# sst_retriever = faissdb.as_retriever(\n",
    "#             search_type='similarity_score_threshold',\n",
    "#             search_kwargs={'k':2, 'score_threshold': 0.1},\n",
    "#         )"
   ]
  },
  {
   "cell_type": "code",
   "execution_count": 115,
   "id": "08f696ce",
   "metadata": {},
   "outputs": [
    {
     "name": "stdout",
     "output_type": "stream",
     "text": [
      "\n",
      "Relevant Doc: \n",
      " Nava Bharath National School\n",
      "Annur, Coimbatore\n",
      "Grade 12, CBSE\n",
      "Aug 2022 - May 2023\n",
      "PROJECTS\n",
      "\n",
      "Source:  {'source': 'NVResume.pdf'}\n"
     ]
    }
   ],
   "source": [
    "query = \"projects\"\n",
    "\n",
    "relevant_doc1 = sim_retriever.invoke(query)\n",
    "\n",
    "for doc in relevant_doc1:\n",
    "    print(\"\\nRelevant Doc: \\n\", doc.page_content)\n",
    "    print('\\nSource: ', doc.metadata)\n",
    "\n",
    "# relevant_doc2 = mmr_retriever.invoke(query)\n",
    "# print(relevant_doc2)\n",
    "\n",
    "# relevant_doc3 = sst_retriever.invoke(query)\n",
    "# print(relevant_doc3)"
   ]
  },
  {
   "cell_type": "code",
   "execution_count": null,
   "id": "a96fe6c6",
   "metadata": {},
   "outputs": [],
   "source": []
  }
 ],
 "metadata": {
  "kernelspec": {
   "display_name": "chat_env",
   "language": "python",
   "name": "python3"
  },
  "language_info": {
   "codemirror_mode": {
    "name": "ipython",
    "version": 3
   },
   "file_extension": ".py",
   "mimetype": "text/x-python",
   "name": "python",
   "nbconvert_exporter": "python",
   "pygments_lexer": "ipython3",
   "version": "3.11.0"
  }
 },
 "nbformat": 4,
 "nbformat_minor": 5
}
